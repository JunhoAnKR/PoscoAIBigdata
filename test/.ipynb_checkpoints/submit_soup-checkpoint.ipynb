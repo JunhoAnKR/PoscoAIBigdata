{
 "cells": [
  {
   "cell_type": "code",
   "execution_count": 144,
   "metadata": {},
   "outputs": [
    {
     "name": "stdout",
     "output_type": "stream",
     "text": [
      "['152632', '151153', '167699', '166092', '152344']\n"
     ]
    }
   ],
   "source": [
    "from urllib.request import urlopen\n",
    "from bs4 import BeautifulSoup\n",
    "from urllib.request import urlretrieve\n",
    "import time\n",
    "\n",
    "url = 'http://movie.naver.com/movie/sdb/rank/rmovie.nhn'\n",
    "page = urlopen(url)\n",
    "soup = BeautifulSoup(page, \"html.parser\")\n",
    "result = soup.find_all(\"div\", attrs={\"class\":\"tit3\"})\n",
    "#result2 = soup.fine_all(\"href\", attrs = {})\n",
    "#print(result2)\n",
    "i= 1\n",
    "url_list = []\n",
    "for movie in result:\n",
    "    cd_number =str(movie).split('code=')[1].split('\"')[0]\n",
    "    url_list.append(cd_number)\n",
    "    i+=1\n",
    "    if i > 5:\n",
    "        break\n",
    "print(url_list)"
   ]
  },
  {
   "cell_type": "code",
   "execution_count": 145,
   "metadata": {},
   "outputs": [],
   "source": [
    "soup_list = []\n",
    "for i in url_list:\n",
    "    img_url = 'https://movie.naver.com/movie/bi/mi/photoViewPopup.nhn?movieCode='+i\n",
    "    page = urlopen(img_url)\n",
    "    soup = BeautifulSoup(page, \"html.parser\")\n",
    "    soup_list.append(soup)\n",
    "# page의 내용을 html.parser로 전달하여 html로 해석"
   ]
  },
  {
   "cell_type": "code",
   "execution_count": 156,
   "metadata": {},
   "outputs": [
    {
     "name": "stdout",
     "output_type": "stream",
     "text": [
      "https://movie-phinf.pstatic.net/20181204_287/1543888062606NHMh7_JPEG/movie_image.jpg\n",
      "https://movie-phinf.pstatic.net/20181210_126/1544403103928nczJs_JPEG/movie_image.jpg\n",
      "https://movie-phinf.pstatic.net/20181227_80/1545901137289EGbWK_JPEG/movie_image.jpg\n",
      "https://movie-phinf.pstatic.net/20181205_284/1543974277191S4IrC_JPEG/movie_image.jpg\n",
      "https://movie-phinf.pstatic.net/20181231_89/1546223246597LMiMi_JPEG/movie_image.jpg\n"
     ]
    }
   ],
   "source": [
    "img_url_list = []\n",
    "for i in soup_list:\n",
    "    where_img = i.find('img')\n",
    "    src = where_img.attrs['src']\n",
    "    img_url_list.append(src)"
   ]
  },
  {
   "cell_type": "code",
   "execution_count": 158,
   "metadata": {},
   "outputs": [
    {
     "name": "stdout",
     "output_type": "stream",
     "text": [
      "/home/pirl/Downloads/movie0.jpg\n",
      "/home/pirl/Downloads/movie1.jpg\n",
      "/home/pirl/Downloads/movie2.jpg\n",
      "/home/pirl/Downloads/movie3.jpg\n",
      "/home/pirl/Downloads/movie4.jpg\n"
     ]
    }
   ],
   "source": [
    "i = 0\n",
    "for k in img_url_list:\n",
    "    address = \"%s%d%s\"%(\"/home/pirl/Downloads/movie\",i,\".jpg\")\n",
    "    print(address)\n",
    "    urlretrieve(k, address)\n",
    "    time.sleep(2)\n",
    "    i+=1"
   ]
  },
  {
   "cell_type": "code",
   "execution_count": null,
   "metadata": {},
   "outputs": [],
   "source": []
  }
 ],
 "metadata": {
  "kernelspec": {
   "display_name": "Python 3",
   "language": "python",
   "name": "python3"
  },
  "language_info": {
   "codemirror_mode": {
    "name": "ipython",
    "version": 3
   },
   "file_extension": ".py",
   "mimetype": "text/x-python",
   "name": "python",
   "nbconvert_exporter": "python",
   "pygments_lexer": "ipython3",
   "version": "3.5.6"
  }
 },
 "nbformat": 4,
 "nbformat_minor": 2
}
